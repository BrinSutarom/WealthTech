{
 "cells": [
  {
   "cell_type": "code",
   "execution_count": 7,
   "id": "5979c950-6dd9-40a6-a93d-fe157b1699d3",
   "metadata": {},
   "outputs": [
    {
     "name": "stdin",
     "output_type": "stream",
     "text": [
      "Enter the asset ticker (e.g., AAPL, BTC-USD, VTI):  GC=F\n",
      "Enter the target year for prediction (e.g., 2025):  2028\n"
     ]
    },
    {
     "name": "stderr",
     "output_type": "stream",
     "text": [
      "[*********************100%***********************]  1 of 1 completed"
     ]
    },
    {
     "name": "stdout",
     "output_type": "stream",
     "text": [
      "The expected percentage change range with 95% confidence for GC=F by 2028 is (-0.04837791044422102, 2.3691228892589)\n"
     ]
    },
    {
     "name": "stderr",
     "output_type": "stream",
     "text": [
      "\n"
     ]
    }
   ],
   "source": [
    "import yfinance as yf\n",
    "import numpy as np\n",
    "import pandas as pd\n",
    "from datetime import datetime, timedelta\n",
    "from scipy.stats import norm\n",
    "\n",
    "def analyze_asset(ticker, target_year):\n",
    "    try:\n",
    "        end_date = datetime.now()\n",
    "        start_date = end_date - timedelta(days=2000)\n",
    "\n",
    "        # Fetch historical asset data\n",
    "        asset_data = yf.download(ticker, start=start_date, end=end_date)\n",
    "        asset_data.dropna(inplace=True)\n",
    "\n",
    "        # Calculate log returns\n",
    "        asset_data['LogReturn'] = np.log(asset_data['Close']).shift(-1) - np.log(asset_data['Close'])\n",
    "        asset_data.dropna(inplace=True)\n",
    "\n",
    "        # Calculate mean and standard deviation of log returns\n",
    "        mu = asset_data['LogReturn'].mean()\n",
    "        sigma = asset_data['LogReturn'].std(ddof=1)\n",
    "\n",
    "        # Calculate the number of trading days until the end of the target year\n",
    "        current_date = datetime.now()\n",
    "        target_date = datetime(target_year, 12, 31)\n",
    "        trading_days_until_target = (target_date - current_date).days * (252 / 365)  # approx 252 trading days per year\n",
    "\n",
    "        # Adjust mu and sigma for the time horizon\n",
    "        projected_mu = mu * trading_days_until_target\n",
    "        projected_sigma = sigma * np.sqrt(trading_days_until_target)\n",
    "\n",
    "        # Calculate percentage change range with 95% confidence\n",
    "        z_score = norm.ppf(0.975)  # 95% confidence z-score\n",
    "        pct_change_range = (projected_mu - z_score * projected_sigma, projected_mu + z_score * projected_sigma)\n",
    "        pct_change_range_percent = (np.exp(pct_change_range[0]) - 1, np.exp(pct_change_range[1]) - 1)  # convert log returns to percentage\n",
    "\n",
    "        print(f'The expected percentage change range with 95% confidence for {ticker} by {target_year} is {pct_change_range_percent}')\n",
    "        \n",
    "        return pct_change_range_percent\n",
    "\n",
    "    except Exception as e:\n",
    "        print(f\"An error occurred: {e}\")\n",
    "        return None\n",
    "\n",
    "def main():\n",
    "    # Get user input for the ticker and target year\n",
    "    ticker = input(\"Enter the asset ticker (e.g., AAPL, BTC-USD, VTI): \").strip()\n",
    "    target_year = int(input(\"Enter the target year for prediction (e.g., 2025): \").strip())\n",
    "\n",
    "    # Analyze the asset\n",
    "    analyze_asset(ticker, target_year)\n",
    "\n",
    "if __name__ == \"__main__\":\n",
    "    main()"
   ]
  }
 ],
 "metadata": {
  "kernelspec": {
   "display_name": "Python 3 (ipykernel)",
   "language": "python",
   "name": "python3"
  },
  "language_info": {
   "codemirror_mode": {
    "name": "ipython",
    "version": 3
   },
   "file_extension": ".py",
   "mimetype": "text/x-python",
   "name": "python",
   "nbconvert_exporter": "python",
   "pygments_lexer": "ipython3",
   "version": "3.12.4"
  }
 },
 "nbformat": 4,
 "nbformat_minor": 5
}
