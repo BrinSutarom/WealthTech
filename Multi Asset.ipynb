{
 "cells": [
  {
   "cell_type": "code",
   "execution_count": 2,
   "id": "58fc5937-6a99-4803-8587-48991f76e9f8",
   "metadata": {},
   "outputs": [],
   "source": [
    "import pandas as pd\n",
    "import yfinance as yf\n",
    "from datetime import datetime, timedelta\n",
    "import numpy as np\n",
    "from scipy.stats import norm"
   ]
  },
  {
   "cell_type": "code",
   "execution_count": 3,
   "id": "39bf07f2-99cb-4d11-b12c-96075f4ff2e5",
   "metadata": {},
   "outputs": [],
   "source": [
    "# Function to validate and convert date input\n",
    "def get_valid_date():\n",
    "    while True:\n",
    "        date_str = input(\"Enter the date you bought the asset (YYYY-MM-DD): \")\n",
    "        try:\n",
    "            date = datetime.strptime(date_str, \"%Y-%m-%d\")\n",
    "            return date\n",
    "        except ValueError:\n",
    "            print(\"Invalid date format. Please enter the date in YYYY-MM-DD format.\")"
   ]
  },
  {
   "cell_type": "code",
   "execution_count": 6,
   "id": "ed6fb7d5-1b92-4081-9374-dd98da437dd9",
   "metadata": {},
   "outputs": [],
   "source": [
    "# Function to download stock data for a specific date\n",
    "def get_asset_data(ticker, purchase_date):\n",
    "    try:\n",
    "        # Fetch historical data for a specific ticker\n",
    "        data = yf.download(ticker, start=purchase_date, end=purchase_date + timedelta(days=1))\n",
    "        \n",
    "        if data.empty:\n",
    "            return {\"error\": f\"No data found for '{ticker}' on {purchase_date.date()}.\"}\n",
    "        \n",
    "        # Get the price on the purchase date\n",
    "        purchase_price = data['Close'].iloc[0]  # Get closing price for that day\n",
    "        return {\"ticker\": ticker, \"purchase_date\": purchase_date, \"purchase_price\": purchase_price}\n",
    "    \n",
    "    except Exception as e:\n",
    "        return {\"error\": f\"Error fetching data for {ticker}: {e}\"}"
   ]
  },
  {
   "cell_type": "code",
   "execution_count": 26,
   "id": "09794902-b00a-4e32-adaa-54832b9ef809",
   "metadata": {},
   "outputs": [],
   "source": [
    "# Function to handle asset entry based on asset type\n",
    "def enter_asset_by_type(asset_type):\n",
    "    assets = []\n",
    "\n",
    "    if asset_type in ['Stock', 'Bond', 'Fund', 'Crypto']:\n",
    "        assets_input = input(f\"Enter {asset_type.lower()} tickers separated by commas: \").split(',')\n",
    "        for asset in assets_input:\n",
    "            asset = asset.strip().upper()\n",
    "            start_date = get_valid_date()  # Get the purchase date from the user\n",
    "            invested_amount = float(input(f\"Enter the amount of money you invested in {asset}: \"))\n",
    "\n",
    "            # Fetch the asset data (price on purchase date)\n",
    "            data = get_asset_data(asset, start_date)\n",
    "            if \"error\" not in data:\n",
    "                purchase_price = data[\"purchase_price\"]\n",
    "\n",
    "                # Calculate the number of units purchased (amount invested / price per unit at that time)\n",
    "                units_purchased = invested_amount / purchase_price\n",
    "\n",
    "                assets.append({\n",
    "                    \"type\": asset_type,\n",
    "                    \"ticker\": asset,\n",
    "                    \"start_date\": start_date,\n",
    "                    \"invested_amount\": invested_amount,\n",
    "                    \"purchase_price\": purchase_price,\n",
    "                    \"units_purchased\": units_purchased\n",
    "                })\n",
    "            else:\n",
    "                print(data[\"error\"])\n",
    "\n",
    "\n",
    "    return assets"
   ]
  },
  {
   "cell_type": "code",
   "execution_count": 28,
   "id": "2c90cf5e-2dc4-46e3-bc31-9dbf7c53438f",
   "metadata": {},
   "outputs": [],
   "source": [
    "# Function to choose asset type\n",
    "def choose_asset_type():\n",
    "    portfolio = {\"Stock\": [], \"Bond\": [], \"Fund\": [], \"Crypto\": []}\n",
    "\n",
    "    while True:\n",
    "        print(\"\\nAsset Types: Stock, Bond, Fund, Crypto\")\n",
    "        asset_type = input(\"Choose an asset type or type 'exit' to finish: \").capitalize()\n",
    "\n",
    "        if asset_type == 'Exit':\n",
    "            print(\"Exiting...\")\n",
    "            break\n",
    "        elif asset_type in ['Stock', 'Bond', 'Fund', 'Crypto']:\n",
    "            assets = enter_asset_by_type(asset_type)\n",
    "            if assets:\n",
    "                portfolio[asset_type].extend(assets)\n",
    "                print(f\"\\nYou entered the following {asset_type}(s):\")\n",
    "                for asset in assets:\n",
    "                    print(asset)\n",
    "        else:\n",
    "            print(\"Invalid asset type. Please choose from Stock, Bond, Fund, or Crypto.\")\n",
    "\n",
    "    return portfolio"
   ]
  },
  {
   "cell_type": "code",
   "execution_count": 30,
   "id": "a80e1dc6-4af3-411f-a5dd-ca06ce1b64e7",
   "metadata": {},
   "outputs": [
    {
     "name": "stdout",
     "output_type": "stream",
     "text": [
      "\n",
      "Asset Types: Stock, Bond, Fund, Crypto\n"
     ]
    },
    {
     "name": "stdin",
     "output_type": "stream",
     "text": [
      "Choose an asset type or type 'exit' to finish:  stock\n",
      "Enter stock tickers separated by commas:  NVDA\n",
      "Enter the date you bought the asset (YYYY-MM-DD):  2024-04-04\n",
      "Enter the amount of money you invested in NVDA:  1000\n"
     ]
    },
    {
     "name": "stderr",
     "output_type": "stream",
     "text": [
      "[*********************100%***********************]  1 of 1 completed\n"
     ]
    },
    {
     "name": "stdout",
     "output_type": "stream",
     "text": [
      "\n",
      "You entered the following Stock(s):\n",
      "{'type': 'Stock', 'ticker': 'NVDA', 'start_date': datetime.datetime(2024, 4, 4, 0, 0), 'invested_amount': 1000.0, 'purchase_price': 85.90499877929688, 'units_purchased': 11.640766127814674}\n",
      "\n",
      "Asset Types: Stock, Bond, Fund, Crypto\n"
     ]
    },
    {
     "name": "stdin",
     "output_type": "stream",
     "text": [
      "Choose an asset type or type 'exit' to finish:  exit\n"
     ]
    },
    {
     "name": "stdout",
     "output_type": "stream",
     "text": [
      "Exiting...\n",
      "\n",
      "Final Portfolio:\n",
      "{'Stock': [{'type': 'Stock', 'ticker': 'NVDA', 'start_date': datetime.datetime(2024, 4, 4, 0, 0), 'invested_amount': 1000.0, 'purchase_price': 85.90499877929688, 'units_purchased': 11.640766127814674}], 'Bond': [], 'Fund': [], 'Crypto': []}\n"
     ]
    }
   ],
   "source": [
    "# Main execution starts here\n",
    "if __name__ == \"__main__\":\n",
    "    initial_multi_asset_portfolio = choose_asset_type()\n",
    "    print(\"\\nFinal Portfolio:\")\n",
    "    print(initial_multi_asset_portfolio)"
   ]
  },
  {
   "cell_type": "code",
   "execution_count": 32,
   "id": "9078c844-049c-47f2-a053-96b0cb93afc5",
   "metadata": {},
   "outputs": [],
   "source": [
    "# Vitualization\n",
    "import matplotlib.pyplot as plt\n",
    "\n",
    "# Function to calculate initial investment proportions\n",
    "def visualize_initial_investment(portfolio):\n",
    "    labels = []\n",
    "    sizes = []\n",
    "    \n",
    "    # Process Stock, Bond, Fund, and Gold investments\n",
    "    for asset_type in ['Stock', 'Bond', 'Fund', 'Crypto']:\n",
    "        total_invested = sum(item['invested_amount'] for item in portfolio[asset_type])\n",
    "        if total_invested > 0:\n",
    "            labels.append(asset_type)\n",
    "            sizes.append(total_invested)\n",
    "    \n",
    "    # Plot pie chart for initial investments\n",
    "    plt.figure(figsize=(7, 7))\n",
    "    plt.pie(sizes, labels=labels, autopct='%1.1f%%', startangle=140)\n",
    "    plt.title('Initial Investment Proportion')\n",
    "    plt.axis('equal')  # Equal aspect ratio ensures that pie is drawn as a circle.\n",
    "    plt.show()"
   ]
  },
  {
   "cell_type": "code",
   "execution_count": 34,
   "id": "cbfbea5f-b32b-4e38-8ee5-3d0c71db0954",
   "metadata": {},
   "outputs": [],
   "source": [
    "# Function to fetch the current price dynamically\n",
    "def fetch_latest_price(ticker):\n",
    "    try:\n",
    "        # Download the last available data for today\n",
    "        data = yf.download(ticker, period=\"1d\")\n",
    "        return data['Close'][-1]  # Return the last closing price\n",
    "    except Exception as e:\n",
    "        print(f\"Error fetching latest price for {ticker}: {e}\")\n",
    "        return None"
   ]
  },
  {
   "cell_type": "code",
   "execution_count": 36,
   "id": "91c5f55a-d332-45a0-ad28-660a307e3d57",
   "metadata": {},
   "outputs": [
    {
     "name": "stderr",
     "output_type": "stream",
     "text": [
      "[*********************100%***********************]  1 of 1 completed\n",
      "/var/folders/vf/xvr_vbr13m30zk3mvk99dv0h0000gn/T/ipykernel_53896/1881802631.py:6: FutureWarning: Series.__getitem__ treating keys as positions is deprecated. In a future version, integer keys will always be treated as labels (consistent with DataFrame behavior). To access a value by position, use `ser.iloc[pos]`\n",
      "  return data['Close'][-1]  # Return the last closing price\n"
     ]
    }
   ],
   "source": [
    "# Function to update portfolio with the latest prices\n",
    "def update_portfolio_with_latest_prices(portfolio):\n",
    "    updated_portfolio = {'Stock': [], 'Bond': [], 'Fund': [], 'Crypto': []}\n",
    "\n",
    "    for asset_type in ['Stock', 'Bond', 'Fund', 'Crypto']:\n",
    "        for asset in portfolio[asset_type]:\n",
    "            latest_price = fetch_latest_price(asset['ticker'])  # Fetch the latest price\n",
    "            if latest_price:\n",
    "                updated_asset = {\n",
    "                    'type': asset['type'],\n",
    "                    'ticker': asset['ticker'],\n",
    "                    'start_date': asset['start_date'],\n",
    "                    'invested_amount': asset['invested_amount'],\n",
    "                    'latest_price': latest_price,\n",
    "                    'units_purchased': asset['units_purchased'],\n",
    "                    'current_value': asset['units_purchased'] * latest_price\n",
    "                }\n",
    "                updated_portfolio[asset_type].append(updated_asset)\n",
    "    \n",
    "    return updated_portfolio\n",
    "\n",
    "current_multi_asset_portfolio = update_portfolio_with_latest_prices(initial_multi_asset_portfolio)"
   ]
  },
  {
   "cell_type": "code",
   "execution_count": 38,
   "id": "78088480-b565-4b65-bb9f-5c0c69fde857",
   "metadata": {},
   "outputs": [],
   "source": [
    "# Function to calculate current wealth proportions\n",
    "def visualize_current_wealth(portfolio):\n",
    "    labels = []\n",
    "    sizes = []\n",
    "    \n",
    "    # Process Stock, Bond, Fund, and Gold wealth based on current price\n",
    "    for asset_type in ['Stock', 'Bond', 'Fund', 'Crypto']:\n",
    "        total_wealth = 0\n",
    "        for item in portfolio[asset_type]:\n",
    "            latest_price = fetch_latest_price(item['ticker'])  # Fetch the latest price\n",
    "            if latest_price:\n",
    "                total_wealth += item['units_purchased'] * latest_price\n",
    "        if total_wealth > 0:\n",
    "            labels.append(asset_type)\n",
    "            sizes.append(total_wealth)\n",
    "    \n",
    "    # Plot pie chart for current wealth\n",
    "    plt.figure(figsize=(7, 7))\n",
    "    plt.pie(sizes, labels=labels, autopct='%1.1f%%', startangle=140)\n",
    "    plt.title('Current Wealth Proportion')\n",
    "    plt.axis('equal')  # Equal aspect ratio ensures that pie is drawn as a circle.\n",
    "    plt.show()"
   ]
  },
  {
   "cell_type": "code",
   "execution_count": 40,
   "id": "d795b1f1-aafb-4878-b9d9-6ca079808df8",
   "metadata": {},
   "outputs": [
    {
     "data": {
      "image/png": "[encoded data removed]",
      "text/plain": [
       "<Figure size 700x700 with 1 Axes>"
      ]
     },
     "metadata": {},
     "output_type": "display_data"
    },
    {
     "name": "stderr",
     "output_type": "stream",
     "text": [
      "[*********************100%***********************]  1 of 1 completed\n",
      "/var/folders/vf/xvr_vbr13m30zk3mvk99dv0h0000gn/T/ipykernel_53896/1881802631.py:6: FutureWarning: Series.__getitem__ treating keys as positions is deprecated. In a future version, integer keys will always be treated as labels (consistent with DataFrame behavior). To access a value by position, use `ser.iloc[pos]`\n",
      "  return data['Close'][-1]  # Return the last closing price\n"
     ]
    },
    {
     "data": {
      "image/png": "[encoded data removed]",
      "text/plain": [
       "<Figure size 700x700 with 1 Axes>"
      ]
     },
     "metadata": {},
     "output_type": "display_data"
    }
   ],
   "source": [
    "# Visualize initial investment proportion\n",
    "visualize_initial_investment(initial_multi_asset_portfolio)\n",
    "\n",
    "# Visualize current wealth proportion\n",
    "visualize_current_wealth(current_multi_asset_portfolio)"
   ]
  },
  {
   "cell_type": "code",
   "execution_count": 45,
   "id": "9a17be28-6d71-4613-a2b7-54d43104ded3",
   "metadata": {},
   "outputs": [
    {
     "name": "stderr",
     "output_type": "stream",
     "text": [
      "[*********************100%***********************]  1 of 1 completed"
     ]
    },
    {
     "name": "stdout",
     "output_type": "stream",
     "text": [
      "\n",
      "=== Portfolio Performance ===\n",
      "\n",
      "=== Stock Performance ===\n",
      "NVDA: 1647.63 USD, +64.76% (+647.63 USD)\n",
      "Total Stock: 1647.63 USD, +64.76% (+647.63 USD)\n",
      "\n",
      "=== Bond Performance ===\n",
      "\n",
      "=== Fund Performance ===\n",
      "\n",
      "=== Crypto Performance ===\n",
      "\n",
      "=== Total Portfolio: 1647.63 USD, +64.76% (+647.63 USD) ===\n"
     ]
    },
    {
     "name": "stderr",
     "output_type": "stream",
     "text": [
      "\n",
      "/var/folders/vf/xvr_vbr13m30zk3mvk99dv0h0000gn/T/ipykernel_53896/1881802631.py:6: FutureWarning: Series.__getitem__ treating keys as positions is deprecated. In a future version, integer keys will always be treated as labels (consistent with DataFrame behavior). To access a value by position, use `ser.iloc[pos]`\n",
      "  return data['Close'][-1]  # Return the last closing price\n"
     ]
    }
   ],
   "source": [
    "# Function to calculate and print detailed portfolio performance\n",
    "def print_portfolio_performance(portfolio):\n",
    "    total_initial_value = 0\n",
    "    total_current_value = 0\n",
    "    \n",
    "    print(\"\\n=== Portfolio Performance ===\")\n",
    "    \n",
    "    # Process Stocks, Bonds, Funds, and Gold\n",
    "    for asset_type in ['Stock', 'Bond', 'Fund', 'Crypto']:\n",
    "        asset_initial_value = 0\n",
    "        asset_current_value = 0\n",
    "        print(f\"\\n=== {asset_type} Performance ===\")\n",
    "        \n",
    "        for asset in portfolio[asset_type]:\n",
    "            initial_value = asset['invested_amount']\n",
    "            latest_price = fetch_latest_price(asset['ticker'])  # Fetch the latest price\n",
    "            if latest_price:\n",
    "                current_value = asset['units_purchased'] * latest_price\n",
    "                asset_initial_value += initial_value\n",
    "                asset_current_value += current_value\n",
    "                \n",
    "                # Calculate percentage change and absolute change\n",
    "                change_percentage = ((current_value - initial_value) / initial_value) * 100\n",
    "                change_value = current_value - initial_value\n",
    "                \n",
    "                # Print individual asset performance including net worth\n",
    "                print(f\"{asset['ticker']}: {current_value:.2f} USD, {change_percentage:+.2f}% ({change_value:+.2f} USD)\")\n",
    "        \n",
    "        # Calculate and print asset type performance\n",
    "        if asset_initial_value > 0:\n",
    "            asset_change_percentage = ((asset_current_value - asset_initial_value) / asset_initial_value) * 100\n",
    "            asset_change_value = asset_current_value - asset_initial_value\n",
    "            print(f\"Total {asset_type}: {asset_current_value:.2f} USD, {asset_change_percentage:+.2f}% ({asset_change_value:+.2f} USD)\")\n",
    "        \n",
    "        # Update portfolio totals\n",
    "        total_initial_value += asset_initial_value\n",
    "        total_current_value += asset_current_value\n",
    "    \n",
    "    # Calculate and print total portfolio performance\n",
    "    total_change_percentage = ((total_current_value - total_initial_value) / total_initial_value) * 100\n",
    "    total_change_value = total_current_value - total_initial_value\n",
    "    print(f\"\\n=== Total Portfolio: {total_current_value:.2f} USD, {total_change_percentage:+.2f}% ({total_change_value:+.2f} USD) ===\")\n",
    "\n",
    "print_portfolio_performance(initial_multi_asset_portfolio)"
   ]
  },
  {
   "cell_type": "code",
   "execution_count": 51,
   "id": "a5b8456c-60e0-47ce-b2f6-0baee04563a8",
   "metadata": {},
   "outputs": [],
   "source": [
    "def analyze_asset(ticker, target_year):\n",
    "    try:\n",
    "        end_date = datetime.now()\n",
    "        start_date = end_date - timedelta(days=2000)\n",
    "\n",
    "        # Fetch historical asset data\n",
    "        asset_data = yf.download(ticker, start=start_date, end=end_date)\n",
    "        asset_data.dropna(inplace=True)\n",
    "\n",
    "        # Calculate log returns\n",
    "        asset_data['LogReturn'] = np.log(asset_data['Close']).shift(-1) - np.log(asset_data['Close'])\n",
    "        asset_data.dropna(inplace=True)\n",
    "\n",
    "        # Calculate mean and standard deviation of log returns\n",
    "        mu = asset_data['LogReturn'].mean()\n",
    "        sigma = asset_data['LogReturn'].std(ddof=1)\n",
    "\n",
    "        # Calculate the number of trading days until the end of the target year\n",
    "        current_date = datetime.now()\n",
    "        target_date = datetime(target_year, 12, 31)\n",
    "        trading_days_until_target = (target_date - current_date).days * (252 / 365)  # approx 252 trading days per year\n",
    "\n",
    "        # Adjust mu and sigma for the time horizon\n",
    "        projected_mu = mu * trading_days_until_target\n",
    "        projected_sigma = sigma * np.sqrt(trading_days_until_target)\n",
    "\n",
    "        # Calculate percentage change range with 95% confidence\n",
    "        z_score = norm.ppf(0.975)  # 95% confidence z-score\n",
    "        pct_change_range = (projected_mu - z_score * projected_sigma, projected_mu + z_score * projected_sigma)\n",
    "        pct_change_range_percent = (np.exp(pct_change_range[0]) - 1, np.exp(pct_change_range[1]) - 1)  # convert log returns to percentage\n",
    "\n",
    "        print(f'The expected percentage change range with 95% confidence for {ticker} by {target_year} is {pct_change_range_percent}')\n",
    "        \n",
    "        return pct_change_range_percent\n",
    "\n",
    "    except Exception as e:\n",
    "        print(f\"An error occurred: {e}\")\n",
    "        return None"
   ]
  },
  {
   "cell_type": "code",
   "execution_count": 54,
   "id": "89d4fc68-a6b0-4a63-9103-01bad760f13e",
   "metadata": {},
   "outputs": [],
   "source": [
    "def analyze_portfolio(portfolio, target_year):\n",
    "    asset_projections = []\n",
    "    \n",
    "    # Loop through all asset types in the portfolio\n",
    "    for asset_type in portfolio:\n",
    "        for asset in portfolio[asset_type]:\n",
    "            ticker = asset['ticker']\n",
    "            print(f\"\\nAnalyzing {asset_type[:-1]}: {ticker}\")  # Display asset type without plural\n",
    "            projection = analyze_asset(ticker, target_year)\n",
    "            \n",
    "            if projection is not None:\n",
    "                asset_projections.append({\n",
    "                    'ticker': ticker,\n",
    "                    'pct_change_range': projection\n",
    "                })\n",
    "    \n",
    "    return asset_projections"
   ]
  },
  {
   "cell_type": "code",
   "execution_count": 57,
   "id": "1ad339bd-e8e2-4a0d-a74c-941b4b08cf91",
   "metadata": {},
   "outputs": [],
   "source": [
    "def compute_projected_value(current_value, pct_change_range):\n",
    "    # Calculate the lower and upper bounds of the projected value using decimal format\n",
    "    lower_bound = current_value * (1 + pct_change_range[0]/100)\n",
    "    upper_bound = current_value * (1 + pct_change_range[1]/100)\n",
    "    \n",
    "    return lower_bound, upper_bound"
   ]
  },
  {
   "cell_type": "code",
   "execution_count": 60,
   "id": "11e7b766-40c8-4f4a-a208-4caa8d1f997a",
   "metadata": {},
   "outputs": [],
   "source": [
    "def project_portfolio(portfolio, updated_portfolio, projections):\n",
    "    projected_portfolio = updated_portfolio.copy()\n",
    "\n",
    "    for asset_type in portfolio:\n",
    "        for i, asset in enumerate(portfolio[asset_type]):\n",
    "            ticker = asset['ticker']\n",
    "            current_value = updated_portfolio[asset_type][i]['current_value']\n",
    "\n",
    "            # Find the projection for the corresponding ticker\n",
    "            for proj in projections:\n",
    "                if proj['ticker'] == ticker:\n",
    "                    pct_change_range = proj['pct_change_range']\n",
    "                    projected_value_range = compute_projected_value(current_value, pct_change_range)\n",
    "\n",
    "                    # Update the projected portfolio with the projected value range\n",
    "                    projected_portfolio[asset_type][i]['projected_value_range'] = {\n",
    "                        'lower_bound': projected_value_range[0],\n",
    "                        'upper_bound': projected_value_range[1]\n",
    "                    }\n",
    "    \n",
    "    return projected_portfolio"
   ]
  },
  {
   "cell_type": "code",
   "execution_count": null,
   "id": "4353ca55-4c90-4175-be9e-5099391f3d31",
   "metadata": {},
   "outputs": [],
   "source": [
    "def compute_projected_value(current_value, pct_change_range):\n",
    "    # Calculate the lower and upper bounds of the projected value using decimal format\n",
    "    lower_bound = current_value * (1 + pct_change_range[0]/100)\n",
    "    upper_bound = current_value * (1 + pct_change_range[1]/100)\n",
    "    \n",
    "    return lower_bound, upper_bound"
   ]
  },
  {
   "cell_type": "code",
   "execution_count": 67,
   "id": "3c3ea107-979b-4963-b27c-b870eb784410",
   "metadata": {},
   "outputs": [],
   "source": [
    "def project_portfolio(portfolio, updated_portfolio, projections):\n",
    "    projected_portfolio = updated_portfolio.copy()\n",
    "\n",
    "    for asset_type in portfolio:\n",
    "        for i, asset in enumerate(portfolio[asset_type]):\n",
    "            ticker = asset['ticker']\n",
    "            current_value = updated_portfolio[asset_type][i]['current_value']\n",
    "\n",
    "            # Find the projection for the corresponding ticker\n",
    "            for proj in projections:\n",
    "                if proj['ticker'] == ticker:\n",
    "                    pct_change_range = proj['pct_change_range']\n",
    "                    projected_value_range = compute_projected_value(current_value, pct_change_range)\n",
    "\n",
    "                    # Update the projected portfolio with the projected value range\n",
    "                    projected_portfolio[asset_type][i]['projected_value_range'] = {\n",
    "                        'lower_bound': projected_value_range[0],\n",
    "                        'upper_bound': projected_value_range[1]\n",
    "                    }\n",
    "    \n",
    "    return projected_portfolio"
   ]
  },
  {
   "cell_type": "code",
   "execution_count": 72,
   "id": "7d1a9e39-bc79-48b4-9b8c-d69a323c6414",
   "metadata": {},
   "outputs": [
    {
     "name": "stdin",
     "output_type": "stream",
     "text": [
      "Enter the year you want to analyze (e.g., 2028):  2028\n"
     ]
    },
    {
     "name": "stderr",
     "output_type": "stream",
     "text": [
      "[*********************100%***********************]  1 of 1 completed"
     ]
    },
    {
     "name": "stdout",
     "output_type": "stream",
     "text": [
      "\n",
      "Analyzing Stoc: NVDA\n",
      "The expected percentage change range with 95% confidence for NVDA by 2028 is (0.763278453858288, 115.21544035619831)\n",
      "Ticker: NVDA\n",
      "Current Value: 1647.633959576331\n",
      "Projected Value Range by 2028: {'lower_bound': 1660.2099945882294, 'upper_bound': 3545.962681560468}\n"
     ]
    },
    {
     "name": "stderr",
     "output_type": "stream",
     "text": [
      "\n"
     ]
    },
    {
     "data": {
      "text/plain": [
       "{'Stock': [{'type': 'Stock',\n",
       "   'ticker': 'NVDA',\n",
       "   'start_date': datetime.datetime(2024, 4, 4, 0, 0),\n",
       "   'invested_amount': 1000.0,\n",
       "   'latest_price': 141.5399932861328,\n",
       "   'units_purchased': 11.640766127814674,\n",
       "   'current_value': 1647.633959576331,\n",
       "   'projected_value_range': {'lower_bound': 1660.2099945882294,\n",
       "    'upper_bound': 3545.962681560468}}],\n",
       " 'Bond': [],\n",
       " 'Fund': [],\n",
       " 'Crypto': []}"
      ]
     },
     "execution_count": 72,
     "metadata": {},
     "output_type": "execute_result"
    }
   ],
   "source": [
    "#User inputs\n",
    "target_year = int(input(\"Enter the year you want to analyze (e.g., 2028): \"))\n",
    "\n",
    "# Run portfolio analysis\n",
    "pct_change_range = analyze_portfolio(initial_multi_asset_portfolio, target_year)\n",
    "\n",
    "# Run portfolio projection\n",
    "projected_multi_asset_portfolio = project_portfolio(initial_multi_asset_portfolio, current_multi_asset_portfolio, pct_change_range)\n",
    "\n",
    "# Display the projected portfolio\n",
    "for asset_type in projected_multi_asset_portfolio:\n",
    "    for asset in projected_multi_asset_portfolio[asset_type]:\n",
    "        print(f\"Ticker: {asset['ticker']}\")\n",
    "        print(f\"Current Value: {asset['current_value']}\")\n",
    "        print(f\"Projected Value Range by {target_year}: {asset['projected_value_range']}\")"
   ]
  },
  {
   "cell_type": "code",
   "execution_count": 75,
   "id": "0e5c2331-5760-4338-a36e-a77a86648460",
   "metadata": {},
   "outputs": [
    {
     "name": "stdout",
     "output_type": "stream",
     "text": [
      "Ticker: NVDA\n",
      "Current Value: 1647.633959576331\n",
      "Projected Value Range: 1660.21 - 3545.96\n"
     ]
    }
   ],
   "source": [
    "# Function to calculate and print projected portfolio performance\n",
    "def print_projected_portfolio_performance(portfolio):\n",
    "    total_initial_value = 0\n",
    "    total_projected_value = 0\n",
    "\n",
    "    print(\"\\n=== Projected Portfolio Performance ===\")\n",
    "\n",
    "    for asset_type in portfolio:\n",
    "        asset_initial_value = 0\n",
    "        asset_projected_value = 0\n",
    "        print(f\"\\n=== {asset_type.capitalize()} Projected Performance ===\")\n",
    "\n",
    "        for asset in portfolio[asset_type]:\n",
    "            initial_value = asset['invested_amount']\n",
    "            current_value = asset['current_value']  # Use current value from the portfolio\n",
    "            if 'projected_value_range' in asset:\n",
    "                projected_value_range = asset['projected_value_range']\n",
    "                # Average of projected value range\n",
    "                projected_value = (projected_value_range['lower_bound'] + projected_value_range['upper_bound']) / 2\n",
    "                asset_initial_value += initial_value\n",
    "                asset_projected_value += projected_value\n",
    "\n",
    "                # Calculate percentage change and absolute change\n",
    "                change_percentage = ((projected_value - initial_value) / initial_value) * 100\n",
    "                change_value = projected_value - initial_value\n",
    "\n",
    "                # Print individual asset projected performance\n",
    "                print(f\"{asset['ticker']}: Projected Value: {projected_value:.2f} USD, \"\n",
    "                      f\"Change: {change_percentage:+.2f}% ({change_value:+.2f} USD)\")\n",
    "\n",
    "        # Calculate and print asset type projected performance\n",
    "        if asset_initial_value > 0:\n",
    "            asset_change_percentage = ((asset_projected_value - asset_initial_value) / asset_initial_value) * 100\n",
    "            asset_change_value = asset_projected_value - asset_initial_value\n",
    "            print(f\"Total {asset_type.capitalize()} Projected: {asset_projected_value:.2f} USD, \"\n",
    "                  f\"Change: {asset_change_percentage:+.2f}% ({asset_change_value:+.2f} USD)\")\n",
    "\n",
    "        # Update portfolio totals\n",
    "        total_initial_value += asset_initial_value\n",
    "        total_projected_value += asset_projected_value\n",
    "\n",
    "    # Calculate and print total projected portfolio performance\n",
    "    total_change_percentage = ((total_projected_value - total_initial_value) / total_initial_value) * 100\n",
    "    total_change_value = total_projected_value - total_initial_value\n",
    "    print(f\"\\n=== Total Projected Portfolio: {total_projected_value:.2f} USD, \"\n",
    "          f\"Change: {total_change_percentage:+.2f}% ({total_change_value:+.2f} USD) ===\")\n",
    "\n",
    "# Display the projected portfolio\n",
    "for asset_type in projected_multi_asset_portfolio:\n",
    "    for asset in projected_multi_asset_portfolio[asset_type]:\n",
    "        print(f\"Ticker: {asset['ticker']}\")\n",
    "        print(f\"Current Value: {asset['current_value']}\")\n",
    "        print(f\"Projected Value Range: {asset['projected_value_range']['lower_bound']:.2f} - {asset['projected_value_range']['upper_bound']:.2f}\")"
   ]
  }
 ],
 "metadata": {
  "kernelspec": {
   "display_name": "Python 3 (ipykernel)",
   "language": "python",
   "name": "python3"
  },
  "language_info": {
   "codemirror_mode": {
    "name": "ipython",
    "version": 3
   },
   "file_extension": ".py",
   "mimetype": "text/x-python",
   "name": "python",
   "nbconvert_exporter": "python",
   "pygments_lexer": "ipython3",
   "version": "3.12.4"
  }
 },
 "nbformat": 4,
 "nbformat_minor": 5
}
