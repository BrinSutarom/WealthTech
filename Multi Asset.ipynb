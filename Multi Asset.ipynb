{
 "cells": [
  {
   "cell_type": "code",
   "execution_count": 5,
   "id": "58fc5937-6a99-4803-8587-48991f76e9f8",
   "metadata": {},
   "outputs": [],
   "source": [
    "import pandas as pd\n",
    "import yfinance as yf\n",
    "from datetime import datetime, timedelta\n",
    "import numpy as np\n",
    "from scipy.stats import norm"
   ]
  },
  {
   "cell_type": "code",
   "execution_count": 7,
   "id": "39bf07f2-99cb-4d11-b12c-96075f4ff2e5",
   "metadata": {},
   "outputs": [],
   "source": [
    "# Function to validate and convert date input\n",
    "def get_valid_date():\n",
    "    while True:\n",
    "        date_str = input(\"Enter the date you bought the asset (YYYY-MM-DD): \")\n",
    "        try:\n",
    "            date = datetime.strptime(date_str, \"%Y-%m-%d\")\n",
    "            return date\n",
    "        except ValueError:\n",
    "            print(\"Invalid date format. Please enter the date in YYYY-MM-DD format.\")"
   ]
  },
  {
   "cell_type": "code",
   "execution_count": 9,
   "id": "ed6fb7d5-1b92-4081-9374-dd98da437dd9",
   "metadata": {},
   "outputs": [],
   "source": [
    "# Function to download stock data for a specific date\n",
    "def get_asset_data(ticker, purchase_date):\n",
    "    try:\n",
    "        # Fetch historical data for a specific ticker\n",
    "        data = yf.download(ticker, start=purchase_date, end=purchase_date + timedelta(days=1))\n",
    "        \n",
    "        if data.empty:\n",
    "            return {\"error\": f\"No data found for '{ticker}' on {purchase_date.date()}.\"}\n",
    "        \n",
    "        # Get the price on the purchase date\n",
    "        purchase_price = data['Close'].iloc[0]  # Get closing price for that day\n",
    "        return {\"ticker\": ticker, \"purchase_date\": purchase_date, \"purchase_price\": purchase_price}\n",
    "    \n",
    "    except Exception as e:\n",
    "        return {\"error\": f\"Error fetching data for {ticker}: {e}\"}"
   ]
  },
  {
   "cell_type": "code",
   "execution_count": 11,
   "id": "09794902-b00a-4e32-adaa-54832b9ef809",
   "metadata": {},
   "outputs": [],
   "source": [
    "# Function to handle asset entry based on asset type\n",
    "def enter_asset_by_type(asset_type):\n",
    "    assets = []\n",
    "\n",
    "    if asset_type in ['Stock', 'Bond', 'Fund', 'Crypto']:\n",
    "        assets_input = input(f\"Enter {asset_type.lower()} tickers separated by commas: \").split(',')\n",
    "        for asset in assets_input:\n",
    "            asset = asset.strip().upper()\n",
    "            start_date = get_valid_date()  # Get the purchase date from the user\n",
    "            invested_amount = float(input(f\"Enter the amount of money you invested in {asset}: \"))\n",
    "\n",
    "            # Fetch the asset data (price on purchase date)\n",
    "            data = get_asset_data(asset, start_date)\n",
    "            if \"error\" not in data:\n",
    "                purchase_price = data[\"purchase_price\"]\n",
    "\n",
    "                # Calculate the number of units purchased (amount invested / price per unit at that time)\n",
    "                units_purchased = invested_amount / purchase_price\n",
    "\n",
    "                assets.append({\n",
    "                    \"type\": asset_type,\n",
    "                    \"ticker\": asset,\n",
    "                    \"start_date\": start_date,\n",
    "                    \"invested_amount\": invested_amount,\n",
    "                    \"purchase_price\": purchase_price,\n",
    "                    \"units_purchased\": units_purchased\n",
    "                })\n",
    "            else:\n",
    "                print(data[\"error\"])\n",
    "\n",
    "\n",
    "    return assets"
   ]
  },
  {
   "cell_type": "code",
   "execution_count": 13,
   "id": "2c90cf5e-2dc4-46e3-bc31-9dbf7c53438f",
   "metadata": {},
   "outputs": [],
   "source": [
    "# Function to choose asset type\n",
    "def choose_asset_type():\n",
    "    portfolio = {\"Stock\": [], \"Bond\": [], \"Fund\": [], \"Crypto\": []}\n",
    "\n",
    "    while True:\n",
    "        print(\"\\nAsset Types: Stock, Bond, Fund, Crypto\")\n",
    "        asset_type = input(\"Choose an asset type or type 'exit' to finish: \").capitalize()\n",
    "\n",
    "        if asset_type == 'Exit':\n",
    "            print(\"Exiting...\")\n",
    "            break\n",
    "        elif asset_type in ['Stock', 'Bond', 'Fund', 'Crypto']:\n",
    "            assets = enter_asset_by_type(asset_type)\n",
    "            if assets:\n",
    "                portfolio[asset_type].extend(assets)\n",
    "                print(f\"\\nYou entered the following {asset_type}(s):\")\n",
    "                for asset in assets:\n",
    "                    print(asset)\n",
    "        else:\n",
    "            print(\"Invalid asset type. Please choose from Stock, Bond, Fund, or Crypto.\")\n",
    "\n",
    "    return portfolio"
   ]
  },
  {
   "cell_type": "code",
   "execution_count": 15,
   "id": "a80e1dc6-4af3-411f-a5dd-ca06ce1b64e7",
   "metadata": {},
   "outputs": [
    {
     "name": "stdout",
     "output_type": "stream",
     "text": [
      "\n",
      "Asset Types: Stock, Bond, Fund, Crypto\n"
     ]
    },
    {
     "name": "stdin",
     "output_type": "stream",
     "text": [
      "Choose an asset type or type 'exit' to finish:  stock\n",
      "Enter stock tickers separated by commas:  NVDA\n",
      "Enter the date you bought the asset (YYYY-MM-DD):  2024-05-05\n",
      "Enter the amount of money you invested in NVDA:  10000\n"
     ]
    },
    {
     "name": "stderr",
     "output_type": "stream",
     "text": [
      "[*********************100%***********************]  1 of 1 completed\n",
      "\n",
      "1 Failed download:\n",
      "['NVDA']: YFPricesMissingError('$%ticker%: possibly delisted; no price data found  (1d 2024-05-05 00:00:00 -> 2024-05-06 00:00:00)')\n"
     ]
    },
    {
     "name": "stdout",
     "output_type": "stream",
     "text": [
      "No data found for 'NVDA' on 2024-05-05.\n",
      "\n",
      "Asset Types: Stock, Bond, Fund, Crypto\n"
     ]
    },
    {
     "name": "stdin",
     "output_type": "stream",
     "text": [
      "Choose an asset type or type 'exit' to finish:  stock\n",
      "Enter stock tickers separated by commas:  NVDA\n",
      "Enter the date you bought the asset (YYYY-MM-DD):  2024-05-07\n",
      "Enter the amount of money you invested in NVDA:  10000\n"
     ]
    },
    {
     "name": "stderr",
     "output_type": "stream",
     "text": [
      "[*********************100%***********************]  1 of 1 completed\n"
     ]
    },
    {
     "name": "stdout",
     "output_type": "stream",
     "text": [
      "\n",
      "You entered the following Stock(s):\n",
      "{'type': 'Stock', 'ticker': 'NVDA', 'start_date': datetime.datetime(2024, 5, 7, 0, 0), 'invested_amount': 10000.0, 'purchase_price': 90.55400085449219, 'units_purchased': 110.43134379085716}\n",
      "\n",
      "Asset Types: Stock, Bond, Fund, Crypto\n"
     ]
    },
    {
     "name": "stdin",
     "output_type": "stream",
     "text": [
      "Choose an asset type or type 'exit' to finish:  stock\n",
      "Enter stock tickers separated by commas:  LLY\n",
      "Enter the date you bought the asset (YYYY-MM-DD):  2024-05-07\n",
      "Enter the amount of money you invested in LLY:  5000\n"
     ]
    },
    {
     "name": "stderr",
     "output_type": "stream",
     "text": [
      "[*********************100%***********************]  1 of 1 completed\n"
     ]
    },
    {
     "name": "stdout",
     "output_type": "stream",
     "text": [
      "\n",
      "You entered the following Stock(s):\n",
      "{'type': 'Stock', 'ticker': 'LLY', 'start_date': datetime.datetime(2024, 5, 7, 0, 0), 'invested_amount': 5000.0, 'purchase_price': 777.77001953125, 'units_purchased': 6.428635553493593}\n",
      "\n",
      "Asset Types: Stock, Bond, Fund, Crypto\n"
     ]
    },
    {
     "name": "stdin",
     "output_type": "stream",
     "text": [
      "Choose an asset type or type 'exit' to finish:  Fund\n",
      "Enter fund tickers separated by commas:  ETHU\n",
      "Enter the date you bought the asset (YYYY-MM-DD):  2024-09-08\n",
      "Enter the amount of money you invested in ETHU:  2500\n"
     ]
    },
    {
     "name": "stderr",
     "output_type": "stream",
     "text": [
      "[*********************100%***********************]  1 of 1 completed\n",
      "\n",
      "1 Failed download:\n",
      "['ETHU']: YFPricesMissingError('$%ticker%: possibly delisted; no price data found  (1d 2024-09-08 00:00:00 -> 2024-09-09 00:00:00)')\n"
     ]
    },
    {
     "name": "stdout",
     "output_type": "stream",
     "text": [
      "No data found for 'ETHU' on 2024-09-08.\n",
      "\n",
      "Asset Types: Stock, Bond, Fund, Crypto\n"
     ]
    },
    {
     "name": "stdin",
     "output_type": "stream",
     "text": [
      "Choose an asset type or type 'exit' to finish:  fund\n",
      "Enter fund tickers separated by commas:  ETHU\n",
      "Enter the date you bought the asset (YYYY-MM-DD):  2024-09-13\n",
      "Enter the amount of money you invested in ETHU:  2500\n"
     ]
    },
    {
     "name": "stderr",
     "output_type": "stream",
     "text": [
      "[*********************100%***********************]  1 of 1 completed\n"
     ]
    },
    {
     "name": "stdout",
     "output_type": "stream",
     "text": [
      "\n",
      "You entered the following Fund(s):\n",
      "{'type': 'Fund', 'ticker': 'ETHU', 'start_date': datetime.datetime(2024, 9, 13, 0, 0), 'invested_amount': 2500.0, 'purchase_price': 5.119999885559082, 'units_purchased': 488.28126091393665}\n",
      "\n",
      "Asset Types: Stock, Bond, Fund, Crypto\n"
     ]
    },
    {
     "name": "stdin",
     "output_type": "stream",
     "text": [
      "Choose an asset type or type 'exit' to finish:  Crypto\n",
      "Enter crypto tickers separated by commas:  BTC-USD\n",
      "Enter the date you bought the asset (YYYY-MM-DD):  2024-11-01\n",
      "Enter the amount of money you invested in BTC-USD:  20000\n"
     ]
    },
    {
     "name": "stderr",
     "output_type": "stream",
     "text": [
      "[*********************100%***********************]  1 of 1 completed\n"
     ]
    },
    {
     "name": "stdout",
     "output_type": "stream",
     "text": [
      "\n",
      "You entered the following Crypto(s):\n",
      "{'type': 'Crypto', 'ticker': 'BTC-USD', 'start_date': datetime.datetime(2024, 11, 1, 0, 0), 'invested_amount': 20000.0, 'purchase_price': 69482.46875, 'units_purchased': 0.28784239189831606}\n",
      "\n",
      "Asset Types: Stock, Bond, Fund, Crypto\n"
     ]
    },
    {
     "name": "stdin",
     "output_type": "stream",
     "text": [
      "Choose an asset type or type 'exit' to finish:  crypto\n",
      "Enter crypto tickers separated by commas:  ETH-USD\n",
      "Enter the date you bought the asset (YYYY-MM-DD):  2024-11-01\n",
      "Enter the amount of money you invested in ETH-USD:  5000\n"
     ]
    },
    {
     "name": "stderr",
     "output_type": "stream",
     "text": [
      "[*********************100%***********************]  1 of 1 completed\n"
     ]
    },
    {
     "name": "stdout",
     "output_type": "stream",
     "text": [
      "\n",
      "You entered the following Crypto(s):\n",
      "{'type': 'Crypto', 'ticker': 'ETH-USD', 'start_date': datetime.datetime(2024, 11, 1, 0, 0), 'invested_amount': 5000.0, 'purchase_price': 2511.885498046875, 'units_purchased': 1.9905365924871046}\n",
      "\n",
      "Asset Types: Stock, Bond, Fund, Crypto\n"
     ]
    },
    {
     "name": "stdin",
     "output_type": "stream",
     "text": [
      "Choose an asset type or type 'exit' to finish:  exit\n"
     ]
    },
    {
     "name": "stdout",
     "output_type": "stream",
     "text": [
      "Exiting...\n",
      "\n",
      "Final Portfolio:\n",
      "{'Stock': [{'type': 'Stock', 'ticker': 'NVDA', 'start_date': datetime.datetime(2024, 5, 7, 0, 0), 'invested_amount': 10000.0, 'purchase_price': 90.55400085449219, 'units_purchased': 110.43134379085716}, {'type': 'Stock', 'ticker': 'LLY', 'start_date': datetime.datetime(2024, 5, 7, 0, 0), 'invested_amount': 5000.0, 'purchase_price': 777.77001953125, 'units_purchased': 6.428635553493593}], 'Bond': [], 'Fund': [{'type': 'Fund', 'ticker': 'ETHU', 'start_date': datetime.datetime(2024, 9, 13, 0, 0), 'invested_amount': 2500.0, 'purchase_price': 5.119999885559082, 'units_purchased': 488.28126091393665}], 'Crypto': [{'type': 'Crypto', 'ticker': 'BTC-USD', 'start_date': datetime.datetime(2024, 11, 1, 0, 0), 'invested_amount': 20000.0, 'purchase_price': 69482.46875, 'units_purchased': 0.28784239189831606}, {'type': 'Crypto', 'ticker': 'ETH-USD', 'start_date': datetime.datetime(2024, 11, 1, 0, 0), 'invested_amount': 5000.0, 'purchase_price': 2511.885498046875, 'units_purchased': 1.9905365924871046}]}\n"
     ]
    }
   ],
   "source": [
    "# Main execution starts here\n",
    "if __name__ == \"__main__\":\n",
    "    initial_multi_asset_portfolio = choose_asset_type()\n",
    "    print(\"\\nFinal Portfolio:\")\n",
    "    print(initial_multi_asset_portfolio)"
   ]
  },
  {
   "cell_type": "code",
   "execution_count": 17,
   "id": "9078c844-049c-47f2-a053-96b0cb93afc5",
   "metadata": {},
   "outputs": [],
   "source": [
    "# Vitualization\n",
    "import matplotlib.pyplot as plt\n",
    "\n",
    "# Function to calculate initial investment proportions\n",
    "def visualize_initial_investment(portfolio):\n",
    "    labels = []\n",
    "    sizes = []\n",
    "    \n",
    "    # Process Stock, Bond, Fund, and Gold investments\n",
    "    for asset_type in ['Stock', 'Bond', 'Fund', 'Crypto']:\n",
    "        total_invested = sum(item['invested_amount'] for item in portfolio[asset_type])\n",
    "        if total_invested > 0:\n",
    "            labels.append(asset_type)\n",
    "            sizes.append(total_invested)\n",
    "    \n",
    "    # Plot pie chart for initial investments\n",
    "    plt.figure(figsize=(7, 7))\n",
    "    plt.pie(sizes, labels=labels, autopct='%1.1f%%', startangle=140)\n",
    "    plt.title('Initial Investment Proportion')\n",
    "    plt.axis('equal')  # Equal aspect ratio ensures that pie is drawn as a circle.\n",
    "    plt.show()"
   ]
  },
  {
   "cell_type": "code",
   "execution_count": 19,
   "id": "cbfbea5f-b32b-4e38-8ee5-3d0c71db0954",
   "metadata": {},
   "outputs": [],
   "source": [
    "# Function to fetch the current price dynamically\n",
    "def fetch_latest_price(ticker):\n",
    "    try:\n",
    "        # Download the last available data for today\n",
    "        data = yf.download(ticker, period=\"1d\")\n",
    "        return data['Close'][-1]  # Return the last closing price\n",
    "    except Exception as e:\n",
    "        print(f\"Error fetching latest price for {ticker}: {e}\")\n",
    "        return None"
   ]
  },
  {
   "cell_type": "code",
   "execution_count": 21,
   "id": "91c5f55a-d332-45a0-ad28-660a307e3d57",
   "metadata": {},
   "outputs": [
    {
     "name": "stderr",
     "output_type": "stream",
     "text": [
      "[*********************100%***********************]  1 of 1 completed\n",
      "/var/folders/vf/xvr_vbr13m30zk3mvk99dv0h0000gn/T/ipykernel_77593/1881802631.py:6: FutureWarning: Series.__getitem__ treating keys as positions is deprecated. In a future version, integer keys will always be treated as labels (consistent with DataFrame behavior). To access a value by position, use `ser.iloc[pos]`\n",
      "  return data['Close'][-1]  # Return the last closing price\n",
      "[*********************100%***********************]  1 of 1 completed\n",
      "/var/folders/vf/xvr_vbr13m30zk3mvk99dv0h0000gn/T/ipykernel_77593/1881802631.py:6: FutureWarning: Series.__getitem__ treating keys as positions is deprecated. In a future version, integer keys will always be treated as labels (consistent with DataFrame behavior). To access a value by position, use `ser.iloc[pos]`\n",
      "  return data['Close'][-1]  # Return the last closing price\n",
      "[*********************100%***********************]  1 of 1 completed\n",
      "/var/folders/vf/xvr_vbr13m30zk3mvk99dv0h0000gn/T/ipykernel_77593/1881802631.py:6: FutureWarning: Series.__getitem__ treating keys as positions is deprecated. In a future version, integer keys will always be treated as labels (consistent with DataFrame behavior). To access a value by position, use `ser.iloc[pos]`\n",
      "  return data['Close'][-1]  # Return the last closing price\n",
      "[*********************100%***********************]  1 of 1 completed\n",
      "/var/folders/vf/xvr_vbr13m30zk3mvk99dv0h0000gn/T/ipykernel_77593/1881802631.py:6: FutureWarning: Series.__getitem__ treating keys as positions is deprecated. In a future version, integer keys will always be treated as labels (consistent with DataFrame behavior). To access a value by position, use `ser.iloc[pos]`\n",
      "  return data['Close'][-1]  # Return the last closing price\n",
      "[*********************100%***********************]  1 of 1 completed\n",
      "/var/folders/vf/xvr_vbr13m30zk3mvk99dv0h0000gn/T/ipykernel_77593/1881802631.py:6: FutureWarning: Series.__getitem__ treating keys as positions is deprecated. In a future version, integer keys will always be treated as labels (consistent with DataFrame behavior). To access a value by position, use `ser.iloc[pos]`\n",
      "  return data['Close'][-1]  # Return the last closing price\n"
     ]
    }
   ],
   "source": [
    "# Function to update portfolio with the latest prices\n",
    "def update_portfolio_with_latest_prices(portfolio):\n",
    "    updated_portfolio = {'Stock': [], 'Bond': [], 'Fund': [], 'Crypto': []}\n",
    "\n",
    "    for asset_type in ['Stock', 'Bond', 'Fund', 'Crypto']:\n",
    "        for asset in portfolio[asset_type]:\n",
    "            latest_price = fetch_latest_price(asset['ticker'])  # Fetch the latest price\n",
    "            if latest_price:\n",
    "                updated_asset = {\n",
    "                    'type': asset['type'],\n",
    "                    'ticker': asset['ticker'],\n",
    "                    'start_date': asset['start_date'],\n",
    "                    'invested_amount': asset['invested_amount'],\n",
    "                    'latest_price': latest_price,\n",
    "                    'units_purchased': asset['units_purchased'],\n",
    "                    'current_value': asset['units_purchased'] * latest_price\n",
    "                }\n",
    "                updated_portfolio[asset_type].append(updated_asset)\n",
    "    \n",
    "    return updated_portfolio\n",
    "\n",
    "current_multi_asset_portfolio = update_portfolio_with_latest_prices(initial_multi_asset_portfolio)"
   ]
  },
  {
   "cell_type": "code",
   "execution_count": 23,
   "id": "33426e47-9857-4307-ab74-99b27d9ef5fc",
   "metadata": {},
   "outputs": [
    {
     "data": {
      "text/plain": [
       "{'Stock': [{'type': 'Stock',\n",
       "   'ticker': 'NVDA',\n",
       "   'start_date': datetime.datetime(2024, 5, 7, 0, 0),\n",
       "   'invested_amount': 10000.0,\n",
       "   'purchase_price': 90.55400085449219,\n",
       "   'units_purchased': 110.43134379085716},\n",
       "  {'type': 'Stock',\n",
       "   'ticker': 'LLY',\n",
       "   'start_date': datetime.datetime(2024, 5, 7, 0, 0),\n",
       "   'invested_amount': 5000.0,\n",
       "   'purchase_price': 777.77001953125,\n",
       "   'units_purchased': 6.428635553493593}],\n",
       " 'Bond': [],\n",
       " 'Fund': [{'type': 'Fund',\n",
       "   'ticker': 'ETHU',\n",
       "   'start_date': datetime.datetime(2024, 9, 13, 0, 0),\n",
       "   'invested_amount': 2500.0,\n",
       "   'purchase_price': 5.119999885559082,\n",
       "   'units_purchased': 488.28126091393665}],\n",
       " 'Crypto': [{'type': 'Crypto',\n",
       "   'ticker': 'BTC-USD',\n",
       "   'start_date': datetime.datetime(2024, 11, 1, 0, 0),\n",
       "   'invested_amount': 20000.0,\n",
       "   'purchase_price': 69482.46875,\n",
       "   'units_purchased': 0.28784239189831606},\n",
       "  {'type': 'Crypto',\n",
       "   'ticker': 'ETH-USD',\n",
       "   'start_date': datetime.datetime(2024, 11, 1, 0, 0),\n",
       "   'invested_amount': 5000.0,\n",
       "   'purchase_price': 2511.885498046875,\n",
       "   'units_purchased': 1.9905365924871046}]}"
      ]
     },
     "execution_count": 23,
     "metadata": {},
     "output_type": "execute_result"
    }
   ],
   "source": [
    "initial_multi_asset_portfolio"
   ]
  },
  {
   "cell_type": "code",
   "execution_count": 25,
   "id": "ba407268-fe53-4c39-93a9-368ebe360ea4",
   "metadata": {},
   "outputs": [
    {
     "data": {
      "text/plain": [
       "{'Stock': [{'type': 'Stock',\n",
       "   'ticker': 'NVDA',\n",
       "   'start_date': datetime.datetime(2024, 5, 7, 0, 0),\n",
       "   'invested_amount': 10000.0,\n",
       "   'latest_price': 139.91000366210938,\n",
       "   'units_purchased': 110.43134379085716,\n",
       "   'current_value': 15450.449714190485},\n",
       "  {'type': 'Stock',\n",
       "   'ticker': 'LLY',\n",
       "   'start_date': datetime.datetime(2024, 5, 7, 0, 0),\n",
       "   'invested_amount': 5000.0,\n",
       "   'latest_price': 806.0599975585938,\n",
       "   'units_purchased': 6.428635553493593,\n",
       "   'current_value': 5181.8659585541345}],\n",
       " 'Bond': [],\n",
       " 'Fund': [{'type': 'Fund',\n",
       "   'ticker': 'ETHU',\n",
       "   'start_date': datetime.datetime(2024, 9, 13, 0, 0),\n",
       "   'invested_amount': 2500.0,\n",
       "   'latest_price': 4.760000228881836,\n",
       "   'units_purchased': 488.28126091393665,\n",
       "   'current_value': 2324.21891370905}],\n",
       " 'Crypto': [{'type': 'Crypto',\n",
       "   'ticker': 'BTC-USD',\n",
       "   'start_date': datetime.datetime(2024, 11, 1, 0, 0),\n",
       "   'invested_amount': 20000.0,\n",
       "   'latest_price': 74213.78125,\n",
       "   'units_purchased': 0.28784239189831606,\n",
       "   'current_value': 21361.8723068184},\n",
       "  {'type': 'Crypto',\n",
       "   'ticker': 'ETH-USD',\n",
       "   'start_date': datetime.datetime(2024, 11, 1, 0, 0),\n",
       "   'invested_amount': 5000.0,\n",
       "   'latest_price': 2632.85595703125,\n",
       "   'units_purchased': 1.9905365924871046,\n",
       "   'current_value': 5240.796125218359}]}"
      ]
     },
     "execution_count": 25,
     "metadata": {},
     "output_type": "execute_result"
    }
   ],
   "source": [
    "current_multi_asset_portfolio"
   ]
  },
  {
   "cell_type": "code",
   "execution_count": 27,
   "id": "78088480-b565-4b65-bb9f-5c0c69fde857",
   "metadata": {},
   "outputs": [],
   "source": [
    "# Function to calculate current wealth proportions\n",
    "def visualize_current_wealth(portfolio):\n",
    "    labels = []\n",
    "    sizes = []\n",
    "    \n",
    "    # Process Stock, Bond, Fund, and Gold wealth based on current price\n",
    "    for asset_type in ['Stock', 'Bond', 'Fund', 'Crypto']:\n",
    "        total_wealth = 0\n",
    "        for item in portfolio[asset_type]:\n",
    "            latest_price = fetch_latest_price(item['ticker'])  # Fetch the latest price\n",
    "            if latest_price:\n",
    "                total_wealth += item['units_purchased'] * latest_price\n",
    "        if total_wealth > 0:\n",
    "            labels.append(asset_type)\n",
    "            sizes.append(total_wealth)\n",
    "    \n",
    "    # Plot pie chart for current wealth\n",
    "    plt.figure(figsize=(7, 7))\n",
    "    plt.pie(sizes, labels=labels, autopct='%1.1f%%', startangle=140)\n",
    "    plt.title('Current Wealth Proportion')\n",
    "    plt.axis('equal')  # Equal aspect ratio ensures that pie is drawn as a circle.\n",
    "    plt.show()"
   ]
  },
  {
   "cell_type": "code",
   "execution_count": 25,
   "id": "d795b1f1-aafb-4878-b9d9-6ca079808df8",
   "metadata": {},
   "outputs": [
    {
     "data": {
      "image/png": "[encoded data removed]",
      "text/plain": [
       "<Figure size 700x700 with 1 Axes>"
      ]
     },
     "metadata": {},
     "output_type": "display_data"
    },
    {
     "name": "stderr",
     "output_type": "stream",
     "text": [
      "[*********************100%***********************]  1 of 1 completed\n",
      "/var/folders/vf/xvr_vbr13m30zk3mvk99dv0h0000gn/T/ipykernel_57640/1881802631.py:6: FutureWarning: Series.__getitem__ treating keys as positions is deprecated. In a future version, integer keys will always be treated as labels (consistent with DataFrame behavior). To access a value by position, use `ser.iloc[pos]`\n",
      "  return data['Close'][-1]  # Return the last closing price\n",
      "[*********************100%***********************]  1 of 1 completed\n",
      "/var/folders/vf/xvr_vbr13m30zk3mvk99dv0h0000gn/T/ipykernel_57640/1881802631.py:6: FutureWarning: Series.__getitem__ treating keys as positions is deprecated. In a future version, integer keys will always be treated as labels (consistent with DataFrame behavior). To access a value by position, use `ser.iloc[pos]`\n",
      "  return data['Close'][-1]  # Return the last closing price\n",
      "[*********************100%***********************]  1 of 1 completed\n",
      "/var/folders/vf/xvr_vbr13m30zk3mvk99dv0h0000gn/T/ipykernel_57640/1881802631.py:6: FutureWarning: Series.__getitem__ treating keys as positions is deprecated. In a future version, integer keys will always be treated as labels (consistent with DataFrame behavior). To access a value by position, use `ser.iloc[pos]`\n",
      "  return data['Close'][-1]  # Return the last closing price\n",
      "[*********************100%***********************]  1 of 1 completed\n",
      "/var/folders/vf/xvr_vbr13m30zk3mvk99dv0h0000gn/T/ipykernel_57640/1881802631.py:6: FutureWarning: Series.__getitem__ treating keys as positions is deprecated. In a future version, integer keys will always be treated as labels (consistent with DataFrame behavior). To access a value by position, use `ser.iloc[pos]`\n",
      "  return data['Close'][-1]  # Return the last closing price\n"
     ]
    },
    {
     "data": {
      "image/png": "[encoded data removed]",
      "text/plain": [
       "<Figure size 700x700 with 1 Axes>"
      ]
     },
     "metadata": {},
     "output_type": "display_data"
    }
   ],
   "source": [
    "# Visualize initial investment proportion\n",
    "visualize_initial_investment(initial_multi_asset_portfolio)\n",
    "\n",
    "# Visualize current wealth proportion\n",
    "visualize_current_wealth(current_multi_asset_portfolio)"
   ]
  },
  {
   "cell_type": "code",
   "execution_count": 29,
   "id": "9a17be28-6d71-4613-a2b7-54d43104ded3",
   "metadata": {},
   "outputs": [
    {
     "name": "stderr",
     "output_type": "stream",
     "text": [
      "[*********************100%***********************]  1 of 1 completed\n",
      "/var/folders/vf/xvr_vbr13m30zk3mvk99dv0h0000gn/T/ipykernel_77593/1881802631.py:6: FutureWarning: Series.__getitem__ treating keys as positions is deprecated. In a future version, integer keys will always be treated as labels (consistent with DataFrame behavior). To access a value by position, use `ser.iloc[pos]`\n",
      "  return data['Close'][-1]  # Return the last closing price\n",
      "[*********************100%***********************]  1 of 1 completed\n",
      "/var/folders/vf/xvr_vbr13m30zk3mvk99dv0h0000gn/T/ipykernel_77593/1881802631.py:6: FutureWarning: Series.__getitem__ treating keys as positions is deprecated. In a future version, integer keys will always be treated as labels (consistent with DataFrame behavior). To access a value by position, use `ser.iloc[pos]`\n",
      "  return data['Close'][-1]  # Return the last closing price\n",
      "[*********************100%***********************]  1 of 1 completed\n",
      "/var/folders/vf/xvr_vbr13m30zk3mvk99dv0h0000gn/T/ipykernel_77593/1881802631.py:6: FutureWarning: Series.__getitem__ treating keys as positions is deprecated. In a future version, integer keys will always be treated as labels (consistent with DataFrame behavior). To access a value by position, use `ser.iloc[pos]`\n",
      "  return data['Close'][-1]  # Return the last closing price\n",
      "[*********************100%***********************]  1 of 1 completed"
     ]
    },
    {
     "name": "stdout",
     "output_type": "stream",
     "text": [
      "\n",
      "=== Portfolio Performance ===\n",
      "\n",
      "=== Stock Performance ===\n",
      "NVDA: 15450.45 USD, +54.50% (+5450.45 USD)\n",
      "LLY: 5181.87 USD, +3.64% (+181.87 USD)\n",
      "Total Stock: 20632.32 USD, +37.55% (+5632.32 USD)\n",
      "\n",
      "=== Bond Performance ===\n",
      "\n",
      "=== Fund Performance ===\n",
      "ETHU: 2324.22 USD, -7.03% (-175.78 USD)\n",
      "Total Fund: 2324.22 USD, -7.03% (-175.78 USD)\n",
      "\n",
      "=== Crypto Performance ===\n",
      "BTC-USD: 21335.13 USD, +6.68% (+1335.13 USD)\n"
     ]
    },
    {
     "name": "stderr",
     "output_type": "stream",
     "text": [
      "\n",
      "/var/folders/vf/xvr_vbr13m30zk3mvk99dv0h0000gn/T/ipykernel_77593/1881802631.py:6: FutureWarning: Series.__getitem__ treating keys as positions is deprecated. In a future version, integer keys will always be treated as labels (consistent with DataFrame behavior). To access a value by position, use `ser.iloc[pos]`\n",
      "  return data['Close'][-1]  # Return the last closing price\n",
      "[*********************100%***********************]  1 of 1 completed"
     ]
    },
    {
     "name": "stdout",
     "output_type": "stream",
     "text": [
      "ETH-USD: 5234.60 USD, +4.69% (+234.60 USD)\n",
      "Total Crypto: 26569.73 USD, +6.28% (+1569.73 USD)\n",
      "\n",
      "=== Total Portfolio: 49526.26 USD, +16.53% (+7026.26 USD) ===\n"
     ]
    },
    {
     "name": "stderr",
     "output_type": "stream",
     "text": [
      "\n",
      "/var/folders/vf/xvr_vbr13m30zk3mvk99dv0h0000gn/T/ipykernel_77593/1881802631.py:6: FutureWarning: Series.__getitem__ treating keys as positions is deprecated. In a future version, integer keys will always be treated as labels (consistent with DataFrame behavior). To access a value by position, use `ser.iloc[pos]`\n",
      "  return data['Close'][-1]  # Return the last closing price\n"
     ]
    }
   ],
   "source": [
    "# Function to calculate and print detailed portfolio performance\n",
    "def print_portfolio_performance(portfolio):\n",
    "    total_initial_value = 0\n",
    "    total_current_value = 0\n",
    "    \n",
    "    print(\"\\n=== Portfolio Performance ===\")\n",
    "    \n",
    "    # Process Stocks, Bonds, Funds, and Gold\n",
    "    for asset_type in ['Stock', 'Bond', 'Fund', 'Crypto']:\n",
    "        asset_initial_value = 0\n",
    "        asset_current_value = 0\n",
    "        print(f\"\\n=== {asset_type} Performance ===\")\n",
    "        \n",
    "        for asset in portfolio[asset_type]:\n",
    "            initial_value = asset['invested_amount']\n",
    "            latest_price = fetch_latest_price(asset['ticker'])  # Fetch the latest price\n",
    "            if latest_price:\n",
    "                current_value = asset['units_purchased'] * latest_price\n",
    "                asset_initial_value += initial_value\n",
    "                asset_current_value += current_value\n",
    "                \n",
    "                # Calculate percentage change and absolute change\n",
    "                change_percentage = ((current_value - initial_value) / initial_value) * 100\n",
    "                change_value = current_value - initial_value\n",
    "                \n",
    "                # Print individual asset performance including net worth\n",
    "                print(f\"{asset['ticker']}: {current_value:.2f} USD, {change_percentage:+.2f}% ({change_value:+.2f} USD)\")\n",
    "        \n",
    "        # Calculate and print asset type performance\n",
    "        if asset_initial_value > 0:\n",
    "            asset_change_percentage = ((asset_current_value - asset_initial_value) / asset_initial_value) * 100\n",
    "            asset_change_value = asset_current_value - asset_initial_value\n",
    "            print(f\"Total {asset_type}: {asset_current_value:.2f} USD, {asset_change_percentage:+.2f}% ({asset_change_value:+.2f} USD)\")\n",
    "        \n",
    "        # Update portfolio totals\n",
    "        total_initial_value += asset_initial_value\n",
    "        total_current_value += asset_current_value\n",
    "    \n",
    "    # Calculate and print total portfolio performance\n",
    "    total_change_percentage = ((total_current_value - total_initial_value) / total_initial_value) * 100\n",
    "    total_change_value = total_current_value - total_initial_value\n",
    "    print(f\"\\n=== Total Portfolio: {total_current_value:.2f} USD, {total_change_percentage:+.2f}% ({total_change_value:+.2f} USD) ===\")\n",
    "\n",
    "print_portfolio_performance(initial_multi_asset_portfolio)"
   ]
  }
 ],
 "metadata": {
  "kernelspec": {
   "display_name": "Python 3 (ipykernel)",
   "language": "python",
   "name": "python3"
  },
  "language_info": {
   "codemirror_mode": {
    "name": "ipython",
    "version": 3
   },
   "file_extension": ".py",
   "mimetype": "text/x-python",
   "name": "python",
   "nbconvert_exporter": "python",
   "pygments_lexer": "ipython3",
   "version": "3.12.4"
  }
 },
 "nbformat": 4,
 "nbformat_minor": 5
}
