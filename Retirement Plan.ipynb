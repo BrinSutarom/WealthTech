{
 "cells": [
  {
   "cell_type": "code",
   "execution_count": 6,
   "id": "6652f8c8-5c15-447b-9b38-8a2f9517b801",
   "metadata": {},
   "outputs": [
    {
     "name": "stdin",
     "output_type": "stream",
     "text": [
      "Enter your expected monthly expenses in today's worth of money:  30000\n",
      "Enter the number of years from now until you retire:  30\n",
      "Enter the number of years you plan to live after retirement:  30\n",
      "Enter the expected inflation rate (as a percentage, e.g., 3 for 3%):  3\n"
     ]
    },
    {
     "name": "stdout",
     "output_type": "stream",
     "text": [
      "\n",
      "The total retirement fund you will need is: 42433661.12\n"
     ]
    },
    {
     "name": "stdin",
     "output_type": "stream",
     "text": [
      "Choose how to calculate savings: 1 for expected growth rate of investment, 2 for monthly investment:  1\n",
      "Enter the expected annual growth rate of your investments (as a percentage, e.g., 5 for 5%):  12\n"
     ]
    },
    {
     "name": "stdout",
     "output_type": "stream",
     "text": [
      "You need to save approximately 12021.16 per month.\n"
     ]
    }
   ],
   "source": [
    "def calculate_retirement_fund():\n",
    "    # User inputs\n",
    "    monthly_expense_today = float(input(\"Enter your expected monthly expenses in today's worth of money: \"))\n",
    "    years_to_retirement = int(input(\"Enter the number of years from now until you retire: \"))\n",
    "    years_after_retirement = int(input(\"Enter the number of years you plan to live after retirement: \"))\n",
    "    inflation_rate = float(input(\"Enter the expected inflation rate (as a percentage, e.g., 3 for 3%): \"))\n",
    "\n",
    "    # Convert inflation rate from percentage to decimal\n",
    "    inflation_rate /= 100\n",
    "\n",
    "    # Number of months in the retirement period\n",
    "    total_months_in_retirement = years_after_retirement * 12\n",
    "\n",
    "    # Calculate the future value of monthly expenses at retirement start\n",
    "    future_monthly_expense = monthly_expense_today * (1 + inflation_rate) ** years_to_retirement\n",
    "\n",
    "    # Total retirement fund needed\n",
    "    total_fund_needed = 0\n",
    "\n",
    "    # Loop over each month in the retirement period\n",
    "    for month in range(total_months_in_retirement):\n",
    "        # Calculate the expense for each month considering inflation during retirement\n",
    "        monthly_expense_during_retirement = future_monthly_expense * (1 + inflation_rate / 12) ** month\n",
    "        total_fund_needed += monthly_expense_during_retirement\n",
    "\n",
    "    return total_fund_needed, years_to_retirement  # Return both values\n",
    "\n",
    "def calculate_monthly_savings(total_fund_needed, years_to_retirement):\n",
    "    # User inputs\n",
    "    choice = input(\"Choose how to calculate savings: 1 for expected growth rate of investment, 2 for monthly investment: \")\n",
    "    \n",
    "    if choice == '1':\n",
    "        growth_rate = float(input(\"Enter the expected annual growth rate of your investments (as a percentage, e.g., 5 for 5%): \"))\n",
    "        growth_rate /= 100  # Convert to decimal\n",
    "\n",
    "        months_to_retirement = years_to_retirement * 12\n",
    "        monthly_savings = total_fund_needed / sum((1 + growth_rate / 12) ** (months_to_retirement - month) for month in range(months_to_retirement))\n",
    "\n",
    "        print(f\"You need to save approximately {monthly_savings:.2f} per month.\")\n",
    "\n",
    "    elif choice == '2':\n",
    "        monthly_investment = float(input(\"Enter the amount you will invest each month: \"))\n",
    "        months_to_retirement = years_to_retirement * 12\n",
    "        total_invested = 0\n",
    "\n",
    "        # Calculate future value of the investment using DCA\n",
    "        for month in range(months_to_retirement):\n",
    "            total_invested += monthly_investment * ((1 + growth_rate / 12) ** (months_to_retirement - month))\n",
    "\n",
    "        if total_invested < total_fund_needed:\n",
    "            print(f\"With an investment of {monthly_investment:.2f} per month, you will not reach your goal.\")\n",
    "        else:\n",
    "            print(f\"With an investment of {monthly_investment:.2f} per month, you will reach your goal.\")\n",
    "\n",
    "def main():\n",
    "    # Calculate total retirement fund needed\n",
    "    retirement_fund, years_to_retirement = calculate_retirement_fund()  # Unpack values returned\n",
    "    print(f\"\\nThe total retirement fund you will need is: {retirement_fund:.2f}\")\n",
    "    \n",
    "    # Calculate monthly savings needed to reach the retirement fund goal\n",
    "    calculate_monthly_savings(retirement_fund, years_to_retirement)\n",
    "\n",
    "if __name__ == \"__main__\":\n",
    "    main()"
   ]
  }
 ],
 "metadata": {
  "kernelspec": {
   "display_name": "Python 3 (ipykernel)",
   "language": "python",
   "name": "python3"
  },
  "language_info": {
   "codemirror_mode": {
    "name": "ipython",
    "version": 3
   },
   "file_extension": ".py",
   "mimetype": "text/x-python",
   "name": "python",
   "nbconvert_exporter": "python",
   "pygments_lexer": "ipython3",
   "version": "3.12.4"
  }
 },
 "nbformat": 4,
 "nbformat_minor": 5
}
