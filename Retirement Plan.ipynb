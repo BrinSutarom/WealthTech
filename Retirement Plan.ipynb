{
 "cells": [
  {
   "cell_type": "code",
   "execution_count": 6,
   "id": "6652f8c8-5c15-447b-9b38-8a2f9517b801",
   "metadata": {},
   "outputs": [
    {
     "name": "stdin",
     "output_type": "stream",
     "text": [
      "Enter your expected monthly expenses (in today's value):  30000\n",
      "Enter the number of years until retirement:  40\n",
      "Enter the number of years you plan to live post-retirement:  30\n",
      "Enter the expected annual inflation rate (%):  3\n"
     ]
    },
    {
     "name": "stdout",
     "output_type": "stream",
     "text": [
      "\n",
      "Estimated total retirement fund needed: $57027292.21\n",
      "\n",
      "\n",
      "How would you like to calculate your savings?\n",
      "1. Based on expected growth rate of investments\n",
      "2. Based on a fixed monthly investment amount\n"
     ]
    },
    {
     "name": "stdin",
     "output_type": "stream",
     "text": [
      "Choose option 1 or 2:  1\n",
      "Enter the expected annual growth rate of your investments (%):  8\n"
     ]
    },
    {
     "name": "stdout",
     "output_type": "stream",
     "text": [
      "\n",
      "To reach your retirement goal, you need to save approximately $16227.30 per month.\n"
     ]
    }
   ],
   "source": [
    "def calculate_retirement_fund():\n",
    "    # User inputs\n",
    "    monthly_expense_today = float(input(\"Enter your expected monthly expenses (in today's value): \"))\n",
    "    years_to_retirement = int(input(\"Enter the number of years until retirement: \"))\n",
    "    years_after_retirement = int(input(\"Enter the number of years you plan to live post-retirement: \"))\n",
    "    inflation_rate = float(input(\"Enter the expected annual inflation rate (%): \"))\n",
    "\n",
    "    # Convert inflation rate from percentage to decimal\n",
    "    inflation_rate /= 100\n",
    "\n",
    "    # Total number of months during retirement\n",
    "    total_months_in_retirement = years_after_retirement * 12\n",
    "\n",
    "    # Calculate future monthly expense at retirement start\n",
    "    future_monthly_expense = monthly_expense_today * (1 + inflation_rate) ** years_to_retirement\n",
    "\n",
    "    # Calculate total retirement fund needed considering inflation\n",
    "    total_fund_needed = 0\n",
    "    for month in range(total_months_in_retirement):\n",
    "        monthly_expense_during_retirement = future_monthly_expense * (1 + inflation_rate / 12) ** month\n",
    "        total_fund_needed += monthly_expense_during_retirement\n",
    "\n",
    "    return total_fund_needed, years_to_retirement  # Return total fund needed and years to retirement\n",
    "\n",
    "def calculate_monthly_savings(total_fund_needed, years_to_retirement):\n",
    "    # User inputs choice for calculation\n",
    "    print(\"\\nHow would you like to calculate your savings?\")\n",
    "    print(\"1. Based on expected growth rate of investments\")\n",
    "    print(\"2. Based on a fixed monthly investment amount\")\n",
    "    choice = input(\"Choose option 1 or 2: \")\n",
    "    \n",
    "    months_to_retirement = years_to_retirement * 12\n",
    "\n",
    "    if choice == '1':\n",
    "        growth_rate = float(input(\"Enter the expected annual growth rate of your investments (%): \"))\n",
    "        growth_rate /= 100  # Convert to decimal\n",
    "\n",
    "        # Calculate monthly savings needed considering growth rate\n",
    "        monthly_savings = total_fund_needed / sum((1 + growth_rate / 12) ** (months_to_retirement - month) for month in range(months_to_retirement))\n",
    "\n",
    "        print(f\"\\nTo reach your retirement goal, you need to save approximately ${monthly_savings:.2f} per month.\")\n",
    "\n",
    "    elif choice == '2':\n",
    "        monthly_investment = float(input(\"Enter the amount you will invest each month: \"))\n",
    "        growth_rate = float(input(\"Enter the expected annual growth rate of your investments (%): \"))\n",
    "        growth_rate /= 100  # Convert to decimal\n",
    "\n",
    "        # Calculate future value of investments using monthly contributions (DCA)\n",
    "        total_invested = sum(monthly_investment * (1 + growth_rate / 12) ** (months_to_retirement - month) for month in range(months_to_retirement))\n",
    "\n",
    "        if total_invested < total_fund_needed:\n",
    "            print(f\"\\nWith a monthly investment of ${monthly_investment:.2f}, you may not reach your retirement goal.\")\n",
    "            print(f\"Total projected investment value: ${total_invested:.2f}. Retirement goal: ${total_fund_needed:.2f}.\")\n",
    "        else:\n",
    "            print(f\"\\nWith a monthly investment of ${monthly_investment:.2f}, you are on track to reach your retirement goal!\")\n",
    "            print(f\"Total projected investment value: ${total_invested:.2f}. Retirement goal: ${total_fund_needed:.2f}.\")\n",
    "\n",
    "def main():\n",
    "    # Calculate total retirement fund needed\n",
    "    retirement_fund, years_to_retirement = calculate_retirement_fund()  # Unpack values returned\n",
    "    print(f\"\\nEstimated total retirement fund needed: ${retirement_fund:.2f}\\n\")\n",
    "    \n",
    "    # Calculate monthly savings needed to reach the retirement fund goal\n",
    "    calculate_monthly_savings(retirement_fund, years_to_retirement)\n",
    "\n",
    "if __name__ == \"__main__\":\n",
    "    main()"
   ]
  }
 ],
 "metadata": {
  "kernelspec": {
   "display_name": "Python 3 (ipykernel)",
   "language": "python",
   "name": "python3"
  },
  "language_info": {
   "codemirror_mode": {
    "name": "ipython",
    "version": 3
   },
   "file_extension": ".py",
   "mimetype": "text/x-python",
   "name": "python",
   "nbconvert_exporter": "python",
   "pygments_lexer": "ipython3",
   "version": "3.12.4"
  }
 },
 "nbformat": 4,
 "nbformat_minor": 5
}
