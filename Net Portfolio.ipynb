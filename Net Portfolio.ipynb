{
 "cells": [
  {
   "cell_type": "code",
   "execution_count": 3,
   "id": "8845d099-154a-4ab9-a000-266945dc6f53",
   "metadata": {},
   "outputs": [],
   "source": [
    "# Function to calculate the initial net investment\n",
    "def calculate_initial_net_investment(initial_multi_asset_portfolio, initial_cash_portfolio, initial_gold_portfolio):\n",
    "    total_initial_investment = 0\n",
    "    \n",
    "    # Summing the initial multi-asset portfolio investments\n",
    "    total_initial_investment += sum(asset['invested_amount'] for asset in initial_multi_asset_portfolio)\n",
    "    \n",
    "    # Adding the initial cash investment\n",
    "    total_initial_investment += sum(cash['invested_amount'] for cash in initial_cash_portfolio)\n",
    "    \n",
    "    # Adding the initial gold portfolio investment\n",
    "    total_initial_investment += sum(gold['invested_amount'] for gold in initial_gold_portfolio)\n",
    "    \n",
    "    return total_initial_investment"
   ]
  },
  {
   "cell_type": "code",
   "execution_count": 5,
   "id": "a226313b-8162-4e24-8777-4a306a230f5f",
   "metadata": {},
   "outputs": [],
   "source": [
    "# Function to calculate the current net investment (current portfolio value)\n",
    "def calculate_current_net_investment(current_multi_asset_portfolio, current_cash_portfolio, current_gold_portfolio):\n",
    "    total_current_value = 0\n",
    "    \n",
    "    # Summing the current multi-asset portfolio values\n",
    "    total_current_value += sum(asset['current_value'] for asset in current_multi_asset_portfolio)\n",
    "    \n",
    "    # Adding the current cash portfolio value\n",
    "    total_current_value += sum(cash['current_value'] for cash in current_cash_portfolio)\n",
    "    \n",
    "    # Adding the current gold portfolio value\n",
    "    total_current_value += sum(gold['current_value'] for gold in current_gold_portfolio)\n",
    "    \n",
    "    return total_current_value"
   ]
  },
  {
   "cell_type": "code",
   "execution_count": null,
   "id": "52cd6e7c-366c-44e3-8d91-ebffb889633d",
   "metadata": {},
   "outputs": [],
   "source": [
    "# Output the results\n",
    "print(f\"Initial Net Investment: {initial_net_investment:.2f} USD\")\n",
    "print(f\"Current Net Investment: {current_net_investment:.2f} USD\")"
   ]
  }
 ],
 "metadata": {
  "kernelspec": {
   "display_name": "Python 3 (ipykernel)",
   "language": "python",
   "name": "python3"
  },
  "language_info": {
   "codemirror_mode": {
    "name": "ipython",
    "version": 3
   },
   "file_extension": ".py",
   "mimetype": "text/x-python",
   "name": "python",
   "nbconvert_exporter": "python",
   "pygments_lexer": "ipython3",
   "version": "3.12.4"
  }
 },
 "nbformat": 4,
 "nbformat_minor": 5
}
