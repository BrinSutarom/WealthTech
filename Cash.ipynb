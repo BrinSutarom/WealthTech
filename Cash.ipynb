{
 "cells": [
  {
   "cell_type": "code",
   "execution_count": 1,
   "id": "1381ee24-11ae-488e-b4ab-1d53c7d0e405",
   "metadata": {},
   "outputs": [],
   "source": [
    "import pandas as pd\n",
    "import yfinance as yf\n",
    "from datetime import datetime, timedelta\n",
    "import math"
   ]
  },
  {
   "cell_type": "code",
   "execution_count": 3,
   "id": "e585fbbb-8926-48c7-98c5-6e825c6ed85c",
   "metadata": {},
   "outputs": [],
   "source": [
    "# Function to validate and convert date input\n",
    "def get_valid_date():\n",
    "    while True:\n",
    "        date_str = input(\"Enter the date of deposit (YYYY-MM-DD): \")\n",
    "        try:\n",
    "            deposit_date = datetime.strptime(date_str, \"%Y-%m-%d\")\n",
    "            return deposit_date\n",
    "        except ValueError:\n",
    "            print(\"Invalid date format. Please enter the date in YYYY-MM-DD format.\")"
   ]
  },
  {
   "cell_type": "code",
   "execution_count": 5,
   "id": "4f1c4556-2393-47cc-8e95-9a59cec863f8",
   "metadata": {},
   "outputs": [],
   "source": [
    "# Function to handle cash entry with interest rate and deposit date\n",
    "def enter_cash():\n",
    "    assets = []\n",
    "    \n",
    "    # Input cash amount with error handling\n",
    "    while True:\n",
    "        try:\n",
    "            cash_value = float(input(\"Enter total cash amount: \"))\n",
    "            if cash_value <= 0:\n",
    "                print(\"Cash amount must be positive. Please try again.\")\n",
    "                continue\n",
    "            break\n",
    "        except ValueError:\n",
    "            print(\"Invalid input. Please enter a valid number for cash amount.\")\n",
    "    \n",
    "    # Input interest rate with error handling\n",
    "    while True:\n",
    "        try:\n",
    "            interest_rate = float(input(\"Enter the interest rate (as a percentage, e.g., 2.5 for 2.5%): \")) / 100  # Convert to decimal\n",
    "            if interest_rate < 0:\n",
    "                print(\"Interest rate cannot be negative. Please try again.\")\n",
    "                continue\n",
    "            break\n",
    "        except ValueError:\n",
    "            print(\"Invalid input. Please enter a valid number for the interest rate.\")\n",
    "    \n",
    "    deposit_date = get_valid_date()  # Prompt user to enter deposit date\n",
    "\n",
    "    # Store cash amount, interest rate, and deposit date in the portfolio\n",
    "    assets.append({\n",
    "        \"type\": \"Cash\",\n",
    "        \"amount\": cash_value,\n",
    "        \"interest_rate\": interest_rate,\n",
    "        \"deposit_date\": deposit_date\n",
    "    })\n",
    "\n",
    "    return assets"
   ]
  },
  {
   "cell_type": "code",
   "execution_count": 7,
   "id": "82ca1887-acdb-4b54-ad3b-6caf01ef3e54",
   "metadata": {},
   "outputs": [],
   "source": [
    "# Function to calculate the current wealth using continuous compound interest\n",
    "def calculate_cash_wealth(portfolio):\n",
    "    total_wealth = 0\n",
    "    current_date = datetime.now()\n",
    "\n",
    "    for asset in portfolio:\n",
    "        principal = asset['amount']\n",
    "        interest_rate = asset['interest_rate']\n",
    "        deposit_date = asset['deposit_date']\n",
    "\n",
    "        # Calculate the time in years since the deposit\n",
    "        days_since_deposit = (current_date - deposit_date).days\n",
    "        time_years = days_since_deposit / 365.25  # Use 365.25 days per year to account for leap years\n",
    "\n",
    "        # Apply the continuous compound interest formula: A = P * e^(r * t)\n",
    "        current_value = principal * math.exp(interest_rate * time_years)\n",
    "\n",
    "        total_wealth += current_value\n",
    "\n",
    "        print(f\"Original Deposit: {principal}, Interest Rate: {interest_rate * 100}%, \"\n",
    "              f\"Deposit Date: {deposit_date.date()}, Current Value: {current_value:.2f}\")\n",
    "\n",
    "    return total_wealth"
   ]
  },
  {
   "cell_type": "code",
   "execution_count": 9,
   "id": "8db573c5-68de-4598-bc7e-0e3b9c484695",
   "metadata": {},
   "outputs": [
    {
     "name": "stdin",
     "output_type": "stream",
     "text": [
      "Enter total cash amount:  10000\n",
      "Enter the interest rate (as a percentage, e.g., 2.5 for 2.5%):  3\n",
      "Enter the date of deposit (YYYY-MM-DD):  2023-01-01\n"
     ]
    },
    {
     "name": "stdout",
     "output_type": "stream",
     "text": [
      "\n",
      "Final Portfolio:\n",
      "[{'type': 'Cash', 'amount': 10000.0, 'interest_rate': 0.03, 'deposit_date': datetime.datetime(2023, 1, 1, 0, 0)}]\n",
      "Original Deposit: 10000.0, Interest Rate: 3.0%, Deposit Date: 2023-01-01, Current Value: 10562.26\n",
      "\n",
      "Total Cash Wealth (with continuous compounding): 10562.26\n"
     ]
    },
    {
     "name": "stdin",
     "output_type": "stream",
     "text": [
      "Enter your target year (e.g., 2030):  2030\n"
     ]
    },
    {
     "name": "stdout",
     "output_type": "stream",
     "text": [
      "Original Deposit: 10000.00, Interest Rate: 3.00%, Deposit Date: 2023-01-01, Projected Value in 2030: 12337.03\n",
      "\n",
      "Total Projected Cash Wealth in 2030: 12337.03 USD\n",
      "{'type': 'Cash', 'amount': 10000.0, 'interest_rate': 0.03, 'deposit_date': datetime.datetime(2023, 1, 1, 0, 0), 'current_cash_wealth': 10562.260857542426, 'predicted_cash_wealth': 12337.033924151856}\n"
     ]
    }
   ],
   "source": [
    "# Main execution starts here\n",
    "if __name__ == \"__main__\":\n",
    "    portfolio_cash = enter_cash()\n",
    "    print(\"\\nFinal Portfolio:\")\n",
    "    print(portfolio_cash)\n",
    "\n",
    "    # Calculate and display current cash wealth based on continuous compounding\n",
    "    current_cash_wealth = calculate_cash_wealth(portfolio_cash)\n",
    "    print(f\"\\nTotal Cash Wealth (with continuous compounding): {current_cash_wealth:.2f}\")\n",
    "\n",
    "    # Store the calculated wealth in the portfolio\n",
    "    portfolio_cash[0]['current_cash_wealth'] = current_cash_wealth\n",
    "    current_cash_portfolio = portfolio_cash\n",
    "\n",
    "    def calculate_projected_cash_wealth(portfolio, target_year):\n",
    "        total_projected_wealth = 0\n",
    "        current_date = datetime.now()\n",
    "\n",
    "        # Calculate the target date for the given year\n",
    "        target_date = datetime(target_year, 1, 1)  # Start of the target year\n",
    "\n",
    "        for asset in portfolio:\n",
    "            principal = asset['amount']  # Use the original deposit amount\n",
    "            interest_rate = asset['interest_rate']\n",
    "            deposit_date = asset['deposit_date']  # This is already a datetime object\n",
    "\n",
    "            # Calculate the time in years until the target date\n",
    "            days_until_target = (target_date - deposit_date).days\n",
    "            time_years = days_until_target / 365.25  # Use 365.25 days per year\n",
    "\n",
    "            # Apply the continuous compound interest formula: A = P * e^(r * t)\n",
    "            projected_value = principal * math.exp(interest_rate * time_years)\n",
    "\n",
    "            total_projected_wealth += projected_value\n",
    "\n",
    "            print(f\"Original Deposit: {principal:.2f}, Interest Rate: {interest_rate * 100:.2f}%, \"\n",
    "                  f\"Deposit Date: {deposit_date.date()}, Projected Value in {target_year}: {projected_value:.2f}\")\n",
    "\n",
    "        return total_projected_wealth\n",
    "\n",
    "    # User inputs target year\n",
    "    target_year = int(input(\"Enter your target year (e.g., 2030): \"))\n",
    "    total_projected_wealth = calculate_projected_cash_wealth(current_cash_portfolio, target_year)\n",
    "\n",
    "    print(f\"\\nTotal Projected Cash Wealth in {target_year}: {total_projected_wealth:.2f} USD\")\n",
    "\n",
    "    predicted_cash_portfolio = current_cash_portfolio[0]\n",
    "    predicted_cash_portfolio['predicted_cash_wealth'] = total_projected_wealth\n",
    "    print(predicted_cash_portfolio)"
   ]
  }
 ],
 "metadata": {
  "kernelspec": {
   "display_name": "Python 3 (ipykernel)",
   "language": "python",
   "name": "python3"
  },
  "language_info": {
   "codemirror_mode": {
    "name": "ipython",
    "version": 3
   },
   "file_extension": ".py",
   "mimetype": "text/x-python",
   "name": "python",
   "nbconvert_exporter": "python",
   "pygments_lexer": "ipython3",
   "version": "3.12.4"
  }
 },
 "nbformat": 4,
 "nbformat_minor": 5
}
